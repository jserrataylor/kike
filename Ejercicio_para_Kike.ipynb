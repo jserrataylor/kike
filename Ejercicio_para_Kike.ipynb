{
  "nbformat": 4,
  "nbformat_minor": 0,
  "metadata": {
    "colab": {
      "provenance": [],
      "authorship_tag": "ABX9TyNQ+vW1974X7czJQ2KtOugG",
      "include_colab_link": true
    },
    "kernelspec": {
      "name": "python3",
      "display_name": "Python 3"
    },
    "language_info": {
      "name": "python"
    }
  },
  "cells": [
    {
      "cell_type": "markdown",
      "metadata": {
        "id": "view-in-github",
        "colab_type": "text"
      },
      "source": [
        "<a href=\"https://colab.research.google.com/github/jserrataylor/kike/blob/main/Ejercicio_para_Kike.ipynb\" target=\"_parent\"><img src=\"https://colab.research.google.com/assets/colab-badge.svg\" alt=\"Open In Colab\"/></a>"
      ]
    },
    {
      "cell_type": "code",
      "source": [
        "## Instalcion de Dependencias\n",
        "\n",
        "## requirements.txt\n",
        "\n",
        "streamlit\n",
        "scikit-learn\n",
        "numpy\n",
        "joblib"
      ],
      "metadata": {
        "id": "HY1uhORRcLdI"
      },
      "execution_count": null,
      "outputs": []
    },
    {
      "cell_type": "code",
      "execution_count": null,
      "metadata": {
        "colab": {
          "base_uri": "https://localhost:8080/"
        },
        "id": "_IYMLB-oQx_5",
        "outputId": "2c117198-f1ce-49da-eae4-a58e6327ff82"
      },
      "outputs": [
        {
          "output_type": "stream",
          "name": "stdout",
          "text": [
            "LogisticRegression: Accuracy = 0.7000\n",
            "RandomForest: Accuracy = 0.6250\n",
            "GradientBoosting: Accuracy = 0.6500\n",
            "\n",
            "Mejor modelo: LogisticRegression con accuracy = 0.7000\n",
            "Modelo guardado como 'best_model.pkl'\n"
          ]
        }
      ],
      "source": [
        "import pandas as pd\n",
        "import numpy as np\n",
        "from sklearn.model_selection import train_test_split\n",
        "from sklearn.linear_model import LogisticRegression\n",
        "from sklearn.ensemble import RandomForestClassifier, GradientBoostingClassifier\n",
        "from sklearn.metrics import accuracy_score\n",
        "import joblib\n",
        "\n",
        "# 1. Generar datos sintéticos\n",
        "np.random.seed(42)\n",
        "n_samples = 200\n",
        "data = pd.DataFrame({\n",
        "    'age': np.random.randint(18, 90, size=n_samples),\n",
        "    'income': np.random.uniform(20000, 100000, size=n_samples),\n",
        "    'num_visits': np.random.randint(0, 50, size=n_samples),\n",
        "})\n",
        "\n",
        "# Utilizamos una función logística para definir la probabilidad de compra\n",
        "# Coeficientes arbitrarios para simulación\n",
        "coef = np.array([0.03, 0.00002, 0.05])\n",
        "intercept = -5\n",
        "X = data.values\n",
        "logit = X.dot(coef) + intercept\n",
        "prob = 1 / (1 + np.exp(-logit))\n",
        "data['purchased'] = (np.random.rand(n_samples) < prob).astype(int)\n",
        "\n",
        "# 2. División entrenamiento / prueba\n",
        "X = data[['age', 'income', 'num_visits']]\n",
        "y = data['purchased']\n",
        "X_train, X_test, y_train, y_test = train_test_split(X, y, test_size=0.2, random_state=42)\n",
        "\n",
        "# 3. Definición y entrenamiento de modelos\n",
        "models = {\n",
        "    'LogisticRegression': LogisticRegression(max_iter=1000),\n",
        "    'RandomForest': RandomForestClassifier(n_estimators=100, random_state=42),\n",
        "    'GradientBoosting': GradientBoostingClassifier(n_estimators=100, random_state=42),\n",
        "}\n",
        "\n",
        "results = {}\n",
        "for name, model in models.items():\n",
        "    model.fit(X_train, y_train)\n",
        "    preds = model.predict(X_test)\n",
        "    acc = accuracy_score(y_test, preds)\n",
        "    results[name] = acc\n",
        "    print(f\"{name}: Accuracy = {acc:.4f}\")\n",
        "\n",
        "# 4. Selección del mejor modelo\n",
        "best_name = max(results, key=results.get)\n",
        "best_model = models[best_name]\n",
        "print(f\"\\nMejor modelo: {best_name} con accuracy = {results[best_name]:.4f}\")\n",
        "\n",
        "# 5. Guardar el mejor modelo\n",
        "joblib.dump(best_model, 'best_model.pkl')\n",
        "print(\"Modelo guardado como 'best_model.pkl'\")\n"
      ]
    },
    {
      "cell_type": "code",
      "source": [
        "## SCRIPT DESPLIEGUE MODELO SUPERVISADO CLASIFICACION\n",
        "\n",
        "import streamlit as st\n",
        "import joblib\n",
        "import numpy as np\n",
        "\n",
        "# Título y descripción\n",
        "st.title(\"Predicción de Compra de Cliente\")\n",
        "st.write(\"\"\"\n",
        "Este servicio despliega un modelo de clasificación entrenado sobre datos sintéticos\n",
        "y predice la probabilidad de que un cliente compre un producto en función de:\n",
        "- Edad\n",
        "- Ingresos anuales\n",
        "- Número de visitas al sitio\n",
        "\"\"\")\n",
        "\n",
        "# Función para cargar y cachear el modelo como recurso\n",
        "@st.cache_resource\n",
        "def load_model():\n",
        "    return joblib.load(\"best_model.pkl\")\n",
        "\n",
        "model = load_model()\n",
        "\n",
        "# Panel lateral para los parámetros de entrada\n",
        "st.sidebar.header(\"Parámetros de entrada\")\n",
        "age = st.sidebar.slider(\"Edad\", min_value=18, max_value=90, value=30, step=1)\n",
        "income = st.sidebar.number_input(\"Ingresos anuales (USD)\", min_value=0.0, value=50000.0, step=1000.0)\n",
        "visits = st.sidebar.slider(\"Número de visitas al sitio\", min_value=0, max_value=50, value=5, step=1)\n",
        "\n",
        "# Preparar los datos de entrada y hacer la predicción\n",
        "X_new = np.array([[age, income, visits]])\n",
        "prob = model.predict_proba(X_new)[0, 1]\n",
        "pred = model.predict(X_new)[0]\n",
        "\n",
        "# Mostrar resultados\n",
        "st.subheader(\"Resultados de la predicción\")\n",
        "st.markdown(f\"- **Probabilidad de compra:** {prob:.2%}\")\n",
        "st.markdown(f\"- **Predicción:** {'🛒 Comprar' if pred == 1 else '🚫 No comprar'}\")\n"
      ],
      "metadata": {
        "id": "7wp2eq8QRiLr"
      },
      "execution_count": null,
      "outputs": []
    },
    {
      "cell_type": "code",
      "source": [
        "import pandas as pd\n",
        "import numpy as np\n",
        "from sklearn.model_selection import train_test_split\n",
        "from sklearn.linear_model import LinearRegression\n",
        "from sklearn.ensemble import RandomForestRegressor, GradientBoostingRegressor\n",
        "from sklearn.metrics import r2_score, mean_squared_error\n",
        "import joblib\n",
        "\n",
        "# 1. Generar datos sintéticos\n",
        "np.random.seed(42)\n",
        "n_samples = 500\n",
        "data = pd.DataFrame({\n",
        "    'sqft': np.random.uniform(500, 4000, n_samples),\n",
        "    'rooms': np.random.randint(1, 6, n_samples),\n",
        "    'age': np.random.uniform(0, 100, n_samples),\n",
        "    'dist': np.random.uniform(0, 30, n_samples)  # distancia a la ciudad en km\n",
        "})\n",
        "\n",
        "# Fórmula sintética para precio (USD)\n",
        "noise = np.random.normal(0, 20000, n_samples)\n",
        "data['price'] = (\n",
        "    50 * data['sqft'] +\n",
        "    10000 * data['rooms'] -\n",
        "    300 * data['age'] -\n",
        "    500 * data['dist'] +\n",
        "    noise\n",
        ")\n",
        "\n",
        "# 2. División entrenamiento / prueba\n",
        "X = data[['sqft', 'rooms', 'age', 'dist']]\n",
        "y = data['price']\n",
        "X_train, X_test, y_train, y_test = train_test_split(X, y, test_size=0.2, random_state=42)\n",
        "\n",
        "# 3. Definición y entrenamiento de modelos de regresión\n",
        "models = {\n",
        "    'LinearRegression': LinearRegression(),\n",
        "    'RandomForestRegressor': RandomForestRegressor(n_estimators=100, random_state=42),\n",
        "    'GradientBoostingRegressor': GradientBoostingRegressor(n_estimators=100, random_state=42),\n",
        "}\n",
        "\n",
        "results = {}\n",
        "for name, model in models.items():\n",
        "    model.fit(X_train, y_train)\n",
        "    preds = model.predict(X_test)\n",
        "    r2 = r2_score(y_test, preds)\n",
        "    mse = mean_squared_error(y_test, preds)\n",
        "    results[name] = {'r2': r2, 'mse': mse}\n",
        "    print(f\"{name}: R2 = {r2:.4f}, MSE = {mse:.2f}\")\n",
        "\n",
        "# 4. Selección del mejor modelo (por R2)\n",
        "best_name = max(results, key=lambda k: results[k]['r2'])\n",
        "best_model = models[best_name]\n",
        "print(f\"\\nMejor modelo: {best_name} con R2 = {results[best_name]['r2']:.4f}\")\n",
        "\n",
        "# 5. Guardar el mejor modelo\n",
        "joblib.dump(best_model, 'best_model_regresion.pkl')\n",
        "print(\"Modelo guardado como 'best_model_regresion.pkl'\")\n"
      ],
      "metadata": {
        "colab": {
          "base_uri": "https://localhost:8080/"
        },
        "id": "nvdD9ZZaZpXW",
        "outputId": "4840d1c0-36c4-43a9-e64d-c8705b4bb562"
      },
      "execution_count": null,
      "outputs": [
        {
          "output_type": "stream",
          "name": "stdout",
          "text": [
            "LinearRegression: R2 = 0.8471, MSE = 426071265.32\n",
            "RandomForestRegressor: R2 = 0.8223, MSE = 495281497.34\n",
            "GradientBoostingRegressor: R2 = 0.8163, MSE = 511982087.71\n",
            "\n",
            "Mejor modelo: LinearRegression con R2 = 0.8471\n",
            "Modelo guardado como 'best_model_regresion.pkl'\n"
          ]
        }
      ]
    },
    {
      "cell_type": "code",
      "source": [
        "## SCRIPT DESPLIEGUE MODELO SUPERVISADO DE REGRESION\n",
        "\n",
        "import streamlit as st\n",
        "import joblib\n",
        "import numpy as np\n",
        "import os\n",
        "\n",
        "# Título y descripción\n",
        "st.title(\"Predicción de Precio de Venta de Casas\")\n",
        "st.write(\"\"\"\n",
        "Esta aplicación carga un modelo de regresión entrenado sobre datos sintéticos\n",
        "y predice el precio de venta de una casa según:\n",
        "- Superficie en pies cuadrados (`sqft`)\n",
        "- Número de habitaciones (`rooms`)\n",
        "- Antigüedad de la vivienda en años (`age`)\n",
        "- Distancia al centro de la ciudad en km (`dist`)\n",
        "\"\"\")\n",
        "\n",
        "# 1. Localizar la carpeta donde está este script\n",
        "CURRENT_DIR = os.path.dirname(os.path.abspath(__file__))\n",
        "\n",
        "# 2. Ruta al modelo guardado en la misma carpeta\n",
        "MODEL_PATH = os.path.join(CURRENT_DIR, \"best_model_regresion.pkl\")\n",
        "\n",
        "# 3. Función para cargar y cachear el modelo como recurso\n",
        "@st.cache_resource\n",
        "def load_model(path):\n",
        "    if not os.path.exists(path):\n",
        "        st.error(f\"❌ No se encontró el modelo en:\\n`{path}`\\nAsegúrate de haber subido `best_model.pkl`.\")\n",
        "        return None\n",
        "    return joblib.load(path)\n",
        "\n",
        "model = load_model(MODEL_PATH)\n",
        "if model is None:\n",
        "    st.stop()\n",
        "\n",
        "# 4. Panel lateral: parámetros de entrada\n",
        "st.sidebar.header(\"Parámetros de Entrada\")\n",
        "sqft  = st.sidebar.slider(\"Superficie (sqft)\",      min_value=100,  max_value=5000,  value=1500, step=50)\n",
        "rooms = st.sidebar.slider(\"Habitaciones\",           min_value=1,    max_value=10,    value=3,    step=1)\n",
        "age   = st.sidebar.slider(\"Antigüedad (años)\",      min_value=0,    max_value=150,   value=20,   step=1)\n",
        "dist  = st.sidebar.slider(\"Distancia al centro (km)\", min_value=0.0,  max_value=100.0, value=10.0, step=0.5)\n",
        "\n",
        "# 5. Preparar input y predecir\n",
        "X_new      = np.array([[sqft, rooms, age, dist]])\n",
        "pred_price = model.predict(X_new)[0]\n",
        "\n",
        "# 6. Mostrar resultado\n",
        "st.subheader(\"🔍 Resultado de la Predicción\")\n",
        "st.write(f\"💰 **Precio estimado:** USD {pred_price:,.2f}\")\n"
      ],
      "metadata": {
        "id": "0G_caISqbZkV"
      },
      "execution_count": null,
      "outputs": []
    }
  ]
}